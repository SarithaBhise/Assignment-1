{
 "cells": [
  {
   "cell_type": "markdown",
   "id": "74b2cce9",
   "metadata": {},
   "source": [
    "### Write a Python program to get the Fibonacci series between 0 to 50"
   ]
  },
  {
   "cell_type": "code",
   "execution_count": 2,
   "id": "81203f46",
   "metadata": {},
   "outputs": [
    {
     "name": "stdout",
     "output_type": "stream",
     "text": [
      "enter a number8\n",
      "011235813"
     ]
    }
   ],
   "source": [
    "num=int(input(\"enter a number\"))\n",
    "x=0\n",
    "y=1\n",
    "fib=0               \n",
    "for i in range(0,num):\n",
    "    print(fib, end=\"\")\n",
    "    x=y\n",
    "    y=fib\n",
    "    fib=x+y\n",
    "    "
   ]
  },
  {
   "cell_type": "markdown",
   "id": "005785a0",
   "metadata": {},
   "source": [
    "### Write a Python program to count the number of even and odd numbers from a series of numbers\n"
   ]
  },
  {
   "cell_type": "code",
   "execution_count": 3,
   "id": "78d8dc85",
   "metadata": {},
   "outputs": [
    {
     "name": "stdout",
     "output_type": "stream",
     "text": [
      "enter start num :10\n",
      "enter end num :30\n",
      "total even:  1 total odd : 1\n",
      "total even:  2 total odd : 2\n",
      "total even:  3 total odd : 3\n",
      "total even:  4 total odd : 4\n",
      "total even:  5 total odd : 5\n",
      "total even:  6 total odd : 6\n",
      "total even:  7 total odd : 7\n",
      "total even:  8 total odd : 8\n",
      "total even:  9 total odd : 9\n",
      "total even:  10 total odd : 10\n"
     ]
    }
   ],
   "source": [
    "start_num=int(input(\"enter start num :\"))\n",
    "end_num=int(input(\"enter end num :\"))\n",
    "even_count=0\n",
    "odd_count=0\n",
    "for i in range(start_num,end_num):\n",
    "    if i%2==0:\n",
    "        even_count=even_count+1\n",
    "    else:\n",
    "        odd_count=odd_count+1\n",
    "        print(\"total even: \", even_count ,\"total odd :\",odd_count)\n",
    "        \n",
    "        "
   ]
  },
  {
   "cell_type": "markdown",
   "id": "466af620",
   "metadata": {},
   "source": [
    "### Write a Python program that accepts a word from the user and reverse it.\n",
    "\n"
   ]
  },
  {
   "cell_type": "code",
   "execution_count": 5,
   "id": "6fbe9703",
   "metadata": {},
   "outputs": [
    {
     "name": "stdout",
     "output_type": "stream",
     "text": [
      "enter a word :universe\n",
      "esrevinu"
     ]
    }
   ],
   "source": [
    "x=input(\"enter a word :\")\n",
    "y=len(x)\n",
    "for i in range(y-1,-1,-1):\n",
    "    print(x[i],end=\"\")"
   ]
  }
 ],
 "metadata": {
  "kernelspec": {
   "display_name": "Python 3 (ipykernel)",
   "language": "python",
   "name": "python3"
  },
  "language_info": {
   "codemirror_mode": {
    "name": "ipython",
    "version": 3
   },
   "file_extension": ".py",
   "mimetype": "text/x-python",
   "name": "python",
   "nbconvert_exporter": "python",
   "pygments_lexer": "ipython3",
   "version": "3.9.13"
  }
 },
 "nbformat": 4,
 "nbformat_minor": 5
}
